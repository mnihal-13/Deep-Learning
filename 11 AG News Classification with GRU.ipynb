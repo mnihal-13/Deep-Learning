{
 "cells": [
  {
   "cell_type": "markdown",
   "id": "e854f950",
   "metadata": {},
   "source": [
    "### AG News Classification"
   ]
  },
  {
   "cell_type": "markdown",
   "id": "d6891116",
   "metadata": {},
   "source": [
    "***"
   ]
  },
  {
   "cell_type": "markdown",
   "id": "09953704",
   "metadata": {},
   "source": [
    "ORIGIN\n",
    "\n",
    "AG is a collection of more than 1 million news articles. News articles have been gathered from more than 2000 news sources by ComeToMyHead in more than 1 year of activity. ComeToMyHead is an academic news search engine which has been running since July, 2004. The dataset is provided by the academic comunity for research purposes in data mining (clustering, classification, etc), information retrieval (ranking, search, etc), xml, data compression, data streaming, and any other non-commercial activity. For more information, please refer to the link http://www.di.unipi.it/~gulli/AG_corpus_of_news_articles.html .\n",
    "\n",
    "DESCRIPTION\n",
    "\n",
    "The AG's news topic classification dataset is constructed by choosing 4 largest classes from the original corpus. Each class contains 30,000 training samples and 1,900 testing samples. The total number of training samples is 120,000 and testing 7,600.\n",
    "\n",
    "The file classes.txt contains a list of classes corresponding to each label.\n",
    "\n",
    "The files train.csv and test.csv contain all the training samples as comma-sparated values. There are 3 columns in them, corresponding to class index (1 to 4), title and description. The title and description are escaped using double quotes (\"), and any internal double quote is escaped by 2 double quotes (\"\"). New lines are escaped by a backslash followed with an \"n\" character, that is \"\\n\"."
   ]
  },
  {
   "cell_type": "markdown",
   "id": "c0cef672",
   "metadata": {},
   "source": [
    "You can download the dataset from <a href = \"https://www.kaggle.com/datasets/amananandrai/ag-news-classification-dataset\">Here</a>"
   ]
  },
  {
   "cell_type": "markdown",
   "id": "cd37d48c",
   "metadata": {},
   "source": [
    "### Import Necessary Libraries"
   ]
  },
  {
   "cell_type": "code",
   "execution_count": 2,
   "id": "e1d257aa",
   "metadata": {},
   "outputs": [],
   "source": [
    "import numpy as np\n",
    "import pandas as pd\n",
    "import matplotlib.pyplot as plt\n",
    "import seaborn as sns\n",
    "from sklearn.model_selection import train_test_split\n",
    "import re\n",
    "from nltk.corpus import stopwords\n",
    "from nltk.stem import WordNetLemmatizer\n",
    "from sklearn.preprocessing import LabelBinarizer\n",
    "from tensorflow.keras.preprocessing.text import Tokenizer\n",
    "from tensorflow.keras.preprocessing.sequence import pad_sequences\n",
    "from keras import Sequential\n",
    "from keras import layers\n",
    "from sklearn.metrics import confusion_matrix, classification_report, accuracy_score"
   ]
  },
  {
   "cell_type": "markdown",
   "id": "34499970",
   "metadata": {},
   "source": [
    "### Read the dataset"
   ]
  },
  {
   "cell_type": "code",
   "execution_count": 3,
   "id": "4688d1d8",
   "metadata": {},
   "outputs": [],
   "source": [
    "df = pd.read_csv('agnews.csv')"
   ]
  },
  {
   "cell_type": "markdown",
   "id": "d3df4c78",
   "metadata": {},
   "source": [
    "### Save only a portion of the dataset"
   ]
  },
  {
   "cell_type": "code",
   "execution_count": 4,
   "id": "bc751e88",
   "metadata": {},
   "outputs": [],
   "source": [
    "df = df[0:20000]"
   ]
  },
  {
   "cell_type": "code",
   "execution_count": 5,
   "id": "1668be7f",
   "metadata": {},
   "outputs": [
    {
     "data": {
      "text/html": [
       "<div>\n",
       "<style scoped>\n",
       "    .dataframe tbody tr th:only-of-type {\n",
       "        vertical-align: middle;\n",
       "    }\n",
       "\n",
       "    .dataframe tbody tr th {\n",
       "        vertical-align: top;\n",
       "    }\n",
       "\n",
       "    .dataframe thead th {\n",
       "        text-align: right;\n",
       "    }\n",
       "</style>\n",
       "<table border=\"1\" class=\"dataframe\">\n",
       "  <thead>\n",
       "    <tr style=\"text-align: right;\">\n",
       "      <th></th>\n",
       "      <th>Class Index</th>\n",
       "      <th>Title</th>\n",
       "      <th>Description</th>\n",
       "    </tr>\n",
       "  </thead>\n",
       "  <tbody>\n",
       "    <tr>\n",
       "      <th>0</th>\n",
       "      <td>3</td>\n",
       "      <td>Wall St. Bears Claw Back Into the Black (Reuters)</td>\n",
       "      <td>Reuters - Short-sellers, Wall Street's dwindli...</td>\n",
       "    </tr>\n",
       "    <tr>\n",
       "      <th>1</th>\n",
       "      <td>3</td>\n",
       "      <td>Carlyle Looks Toward Commercial Aerospace (Reu...</td>\n",
       "      <td>Reuters - Private investment firm Carlyle Grou...</td>\n",
       "    </tr>\n",
       "    <tr>\n",
       "      <th>2</th>\n",
       "      <td>3</td>\n",
       "      <td>Oil and Economy Cloud Stocks' Outlook (Reuters)</td>\n",
       "      <td>Reuters - Soaring crude prices plus worries\\ab...</td>\n",
       "    </tr>\n",
       "    <tr>\n",
       "      <th>3</th>\n",
       "      <td>3</td>\n",
       "      <td>Iraq Halts Oil Exports from Main Southern Pipe...</td>\n",
       "      <td>Reuters - Authorities have halted oil export\\f...</td>\n",
       "    </tr>\n",
       "    <tr>\n",
       "      <th>4</th>\n",
       "      <td>3</td>\n",
       "      <td>Oil prices soar to all-time record, posing new...</td>\n",
       "      <td>AFP - Tearaway world oil prices, toppling reco...</td>\n",
       "    </tr>\n",
       "  </tbody>\n",
       "</table>\n",
       "</div>"
      ],
      "text/plain": [
       "   Class Index                                              Title  \\\n",
       "0            3  Wall St. Bears Claw Back Into the Black (Reuters)   \n",
       "1            3  Carlyle Looks Toward Commercial Aerospace (Reu...   \n",
       "2            3    Oil and Economy Cloud Stocks' Outlook (Reuters)   \n",
       "3            3  Iraq Halts Oil Exports from Main Southern Pipe...   \n",
       "4            3  Oil prices soar to all-time record, posing new...   \n",
       "\n",
       "                                         Description  \n",
       "0  Reuters - Short-sellers, Wall Street's dwindli...  \n",
       "1  Reuters - Private investment firm Carlyle Grou...  \n",
       "2  Reuters - Soaring crude prices plus worries\\ab...  \n",
       "3  Reuters - Authorities have halted oil export\\f...  \n",
       "4  AFP - Tearaway world oil prices, toppling reco...  "
      ]
     },
     "execution_count": 5,
     "metadata": {},
     "output_type": "execute_result"
    }
   ],
   "source": [
    "df.head()"
   ]
  },
  {
   "cell_type": "markdown",
   "id": "6a571088",
   "metadata": {},
   "source": [
    "### Shuffle the dataset"
   ]
  },
  {
   "cell_type": "code",
   "execution_count": 6,
   "id": "b02ebaa0",
   "metadata": {},
   "outputs": [],
   "source": [
    "df = df.sample(frac = 1)"
   ]
  },
  {
   "cell_type": "code",
   "execution_count": 7,
   "id": "26cd3c9c",
   "metadata": {},
   "outputs": [],
   "source": [
    "df.reset_index(drop = True, inplace = True)"
   ]
  },
  {
   "cell_type": "code",
   "execution_count": 8,
   "id": "83af1f7b",
   "metadata": {},
   "outputs": [
    {
     "name": "stdout",
     "output_type": "stream",
     "text": [
      "CAMARILLO, Calif. - Gas prices have dropped nearly 5 cents in the past three weeks with an increase in supply, but soaring crude oil prices could cause rates to rise again soon, an industry analyst said Sunday... - 1\n",
      "\n",
      "Oil supply concerns and broker downgrades of blue-chip companies left stocks mixed yesterday, raising doubts Wall Street #39;s year- end rally would continue. - 3\n",
      "\n",
      "Reuters - If U.S. and Iraqi troops launch a\\major assault on radical cleric Moqtada al-Sadr's militants,\\they will have to pass through sniper-infested streets to root\\them out of a mosque they can't afford to harm. - 1\n",
      "\n",
      "Russian investigators found residue of an explosive substance on the wreckage of the second of two airliners that crashed minutes apart Tuesday night, a security spokesman said yesterday  - 1\n",
      "\n",
      "Microsoft plas to release Windows Media Player 10 on Thursday alongside the highly anticipated MSN Music Store. WMP10 will be included in Windows XP Media Center Edition 2005 which finalized some time after SP2. - 4\n",
      "\n",
      "WHILE MICROSOFT and AMD are suggesting it will be well into next year before the final version of WinXP 64 is released, yesterday it started offering a fresh preview edition of its up-and-coming software which now supports both Intel and AMD 64-bit ... - 4\n",
      "\n",
      "Carlos Pena was all hellos, handshakes, and hugs before facing the Red Sox last night at Fenway Park. Leaning over the waist-high wall by the visitors' dugout, he greeted friends and family members. All the early arrivals seemed to have some connection to the Detroit Tigers' first baseman through either his hometown of Haverhill or his alma mater, Northeastern. - 2\n",
      "\n",
      "By beating Slovakia, 5-2, on Sunday night at the Air Canada Center, Russia set up at least one rematch with a top rival in the World Cup of Hockey. - 2\n",
      "\n",
      "US mortgage finance company Fannie Mae on Friday said it would make public information about some securities it issues to comply with new Securities and Exchange Information rules. - 3\n",
      "\n",
      "TONY JONES: On a rare visit to North Korea, Australia #39;s Foreign Minister Alexander Downer said today he #39;s held productive talks on efforts to end the reclusive nation #39;s nuclear program.  - 1\n",
      "\n"
     ]
    }
   ],
   "source": [
    "for i in range(10):\n",
    "    print(df['Description'][i],'-', df['Class Index'][i])\n",
    "    print()"
   ]
  },
  {
   "cell_type": "markdown",
   "id": "c8f9e71b",
   "metadata": {},
   "source": [
    "### Check Info"
   ]
  },
  {
   "cell_type": "code",
   "execution_count": 9,
   "id": "10afca43",
   "metadata": {},
   "outputs": [
    {
     "name": "stdout",
     "output_type": "stream",
     "text": [
      "<class 'pandas.core.frame.DataFrame'>\n",
      "RangeIndex: 20000 entries, 0 to 19999\n",
      "Data columns (total 3 columns):\n",
      " #   Column       Non-Null Count  Dtype \n",
      "---  ------       --------------  ----- \n",
      " 0   Class Index  20000 non-null  int64 \n",
      " 1   Title        20000 non-null  object\n",
      " 2   Description  20000 non-null  object\n",
      "dtypes: int64(1), object(2)\n",
      "memory usage: 468.9+ KB\n"
     ]
    }
   ],
   "source": [
    "df.info()"
   ]
  },
  {
   "cell_type": "markdown",
   "id": "f0266be4",
   "metadata": {},
   "source": [
    "### View basic statistical information about the dataset"
   ]
  },
  {
   "cell_type": "code",
   "execution_count": 10,
   "id": "0eb894b6",
   "metadata": {},
   "outputs": [
    {
     "data": {
      "text/html": [
       "<div>\n",
       "<style scoped>\n",
       "    .dataframe tbody tr th:only-of-type {\n",
       "        vertical-align: middle;\n",
       "    }\n",
       "\n",
       "    .dataframe tbody tr th {\n",
       "        vertical-align: top;\n",
       "    }\n",
       "\n",
       "    .dataframe thead th {\n",
       "        text-align: right;\n",
       "    }\n",
       "</style>\n",
       "<table border=\"1\" class=\"dataframe\">\n",
       "  <thead>\n",
       "    <tr style=\"text-align: right;\">\n",
       "      <th></th>\n",
       "      <th>Class Index</th>\n",
       "      <th>Title</th>\n",
       "      <th>Description</th>\n",
       "    </tr>\n",
       "  </thead>\n",
       "  <tbody>\n",
       "    <tr>\n",
       "      <th>count</th>\n",
       "      <td>20000.000000</td>\n",
       "      <td>20000</td>\n",
       "      <td>20000</td>\n",
       "    </tr>\n",
       "    <tr>\n",
       "      <th>unique</th>\n",
       "      <td>NaN</td>\n",
       "      <td>19020</td>\n",
       "      <td>19781</td>\n",
       "    </tr>\n",
       "    <tr>\n",
       "      <th>top</th>\n",
       "      <td>NaN</td>\n",
       "      <td>SI.com</td>\n",
       "      <td>ATHENS, Greece - Michael Phelps doesn't mind m...</td>\n",
       "    </tr>\n",
       "    <tr>\n",
       "      <th>freq</th>\n",
       "      <td>NaN</td>\n",
       "      <td>13</td>\n",
       "      <td>4</td>\n",
       "    </tr>\n",
       "    <tr>\n",
       "      <th>mean</th>\n",
       "      <td>2.484500</td>\n",
       "      <td>NaN</td>\n",
       "      <td>NaN</td>\n",
       "    </tr>\n",
       "    <tr>\n",
       "      <th>std</th>\n",
       "      <td>1.133633</td>\n",
       "      <td>NaN</td>\n",
       "      <td>NaN</td>\n",
       "    </tr>\n",
       "    <tr>\n",
       "      <th>min</th>\n",
       "      <td>1.000000</td>\n",
       "      <td>NaN</td>\n",
       "      <td>NaN</td>\n",
       "    </tr>\n",
       "    <tr>\n",
       "      <th>25%</th>\n",
       "      <td>1.000000</td>\n",
       "      <td>NaN</td>\n",
       "      <td>NaN</td>\n",
       "    </tr>\n",
       "    <tr>\n",
       "      <th>50%</th>\n",
       "      <td>2.000000</td>\n",
       "      <td>NaN</td>\n",
       "      <td>NaN</td>\n",
       "    </tr>\n",
       "    <tr>\n",
       "      <th>75%</th>\n",
       "      <td>4.000000</td>\n",
       "      <td>NaN</td>\n",
       "      <td>NaN</td>\n",
       "    </tr>\n",
       "    <tr>\n",
       "      <th>max</th>\n",
       "      <td>4.000000</td>\n",
       "      <td>NaN</td>\n",
       "      <td>NaN</td>\n",
       "    </tr>\n",
       "  </tbody>\n",
       "</table>\n",
       "</div>"
      ],
      "text/plain": [
       "         Class Index   Title  \\\n",
       "count   20000.000000   20000   \n",
       "unique           NaN   19020   \n",
       "top              NaN  SI.com   \n",
       "freq             NaN      13   \n",
       "mean        2.484500     NaN   \n",
       "std         1.133633     NaN   \n",
       "min         1.000000     NaN   \n",
       "25%         1.000000     NaN   \n",
       "50%         2.000000     NaN   \n",
       "75%         4.000000     NaN   \n",
       "max         4.000000     NaN   \n",
       "\n",
       "                                              Description  \n",
       "count                                               20000  \n",
       "unique                                              19781  \n",
       "top     ATHENS, Greece - Michael Phelps doesn't mind m...  \n",
       "freq                                                    4  \n",
       "mean                                                  NaN  \n",
       "std                                                   NaN  \n",
       "min                                                   NaN  \n",
       "25%                                                   NaN  \n",
       "50%                                                   NaN  \n",
       "75%                                                   NaN  \n",
       "max                                                   NaN  "
      ]
     },
     "execution_count": 10,
     "metadata": {},
     "output_type": "execute_result"
    }
   ],
   "source": [
    "df.describe(include = 'all')"
   ]
  },
  {
   "cell_type": "markdown",
   "id": "fece4e65",
   "metadata": {},
   "source": [
    "### Check for missing values"
   ]
  },
  {
   "cell_type": "code",
   "execution_count": 11,
   "id": "35e28d38",
   "metadata": {},
   "outputs": [
    {
     "data": {
      "text/plain": [
       "Class Index    0\n",
       "Title          0\n",
       "Description    0\n",
       "dtype: int64"
      ]
     },
     "execution_count": 11,
     "metadata": {},
     "output_type": "execute_result"
    }
   ],
   "source": [
    "df.isna().sum()"
   ]
  },
  {
   "cell_type": "markdown",
   "id": "51c73a14",
   "metadata": {},
   "source": [
    "### Check for duplicates"
   ]
  },
  {
   "cell_type": "code",
   "execution_count": 33,
   "id": "95a55803",
   "metadata": {},
   "outputs": [
    {
     "data": {
      "text/plain": [
       "0"
      ]
     },
     "execution_count": 33,
     "metadata": {},
     "output_type": "execute_result"
    }
   ],
   "source": [
    "df.duplicated().sum()"
   ]
  },
  {
   "cell_type": "markdown",
   "id": "989da562",
   "metadata": {},
   "source": [
    "### Plot a countplot of the Class Index"
   ]
  },
  {
   "cell_type": "code",
   "execution_count": 15,
   "id": "33dfcc4c",
   "metadata": {},
   "outputs": [
    {
     "name": "stderr",
     "output_type": "stream",
     "text": [
      "C:\\Users\\mnkv1\\AppData\\Local\\Temp\\ipykernel_22900\\3427876340.py:2: FutureWarning: \n",
      "\n",
      "Passing `palette` without assigning `hue` is deprecated and will be removed in v0.14.0. Assign the `y` variable to `hue` and set `legend=False` for the same effect.\n",
      "\n",
      "  sns.countplot(y = df['Class Index'], palette='muted')\n"
     ]
    },
    {
     "data": {
      "image/png": "[encoded data removed]",
      "text/plain": [
       "<Figure size 1000x600 with 1 Axes>"
      ]
     },
     "metadata": {},
     "output_type": "display_data"
    }
   ],
   "source": [
    "plt.figure(figsize = (10,6))\n",
    "sns.countplot(y = df['Class Index'], palette='muted')\n",
    "plt.show()"
   ]
  },
  {
   "cell_type": "markdown",
   "id": "238716f8",
   "metadata": {},
   "source": [
    "### Create a funciton to preprocess the text"
   ]
  },
  {
   "cell_type": "code",
   "execution_count": 16,
   "id": "2a914431",
   "metadata": {},
   "outputs": [],
   "source": [
    "def preprocess(sentence):\n",
    "    #removes all the special characters and split the sentence at spaces\n",
    "    text = re.sub(r\"[^a-zA-Z0-9]\",\" \",sentence).split()\n",
    "    \n",
    "    # converts words to lowercase and removes any stopwords\n",
    "    words = [x.lower() for x in text if x not in stopwords.words('english')]\n",
    "    \n",
    "    # Lemmatize the words\n",
    "    lemma = WordNetLemmatizer()\n",
    "    word = [lemma.lemmatize(word,'v') for word in words ]\n",
    "    \n",
    "    # convert the list of words back into a sentence\n",
    "    word = ' '.join(word)\n",
    "    return word"
   ]
  },
  {
   "cell_type": "markdown",
   "id": "e5482c35",
   "metadata": {},
   "source": [
    "### Apply the preprocess function to the description"
   ]
  },
  {
   "cell_type": "code",
   "execution_count": 17,
   "id": "757bd073",
   "metadata": {},
   "outputs": [],
   "source": [
    "df['Description'] = df['Description'].apply(preprocess)"
   ]
  },
  {
   "cell_type": "code",
   "execution_count": 18,
   "id": "bee0e846",
   "metadata": {},
   "outputs": [
    {
     "name": "stdout",
     "output_type": "stream",
     "text": [
      "camarillo calif gas price drop nearly 5 cents past three weeks increase supply soar crude oil price could cause rat rise soon industry analyst say sunday - 1\n",
      "\n",
      "oil supply concern broker downgrade blue chip company leave stock mix yesterday raise doubt wall street 39 year end rally would continue - 3\n",
      "\n",
      "reuters if u s iraqi troop launch major assault radical cleric moqtada al sadr militants pass sniper infest streets root mosque afford harm - 1\n",
      "\n",
      "russian investigators find residue explosive substance wreckage second two airliners crash minutes apart tuesday night security spokesman say yesterday - 1\n",
      "\n",
      "microsoft plas release windows media player 10 thursday alongside highly anticipate msn music store wmp10 include windows xp media center edition 2005 finalize time sp2 - 4\n",
      "\n",
      "while microsoft amd suggest well next year final version winxp 64 release yesterday start offer fresh preview edition come software support intel amd 64 bite - 4\n",
      "\n",
      "carlos pena hellos handshakes hug face red sox last night fenway park lean waist high wall visitors dugout greet friends family members all early arrivals seem connection detroit tigers first baseman either hometown haverhill alma mater northeastern - 2\n",
      "\n",
      "by beat slovakia 5 2 sunday night air canada center russia set least one rematch top rival world cup hockey - 2\n",
      "\n",
      "us mortgage finance company fannie mae friday say would make public information securities issue comply new securities exchange information rule - 3\n",
      "\n",
      "tony jones on rare visit north korea australia 39 foreign minister alexander downer say today 39 hold productive talk efforts end reclusive nation 39 nuclear program - 1\n",
      "\n"
     ]
    }
   ],
   "source": [
    "for i in range(10):\n",
    "    print(df['Description'][i],'-', df['Class Index'][i])\n",
    "    print()"
   ]
  },
  {
   "cell_type": "markdown",
   "id": "7f5cd81f",
   "metadata": {},
   "source": [
    "### Split Input & Target Variables"
   ]
  },
  {
   "cell_type": "code",
   "execution_count": 19,
   "id": "36b06902",
   "metadata": {},
   "outputs": [],
   "source": [
    "X = df['Description']\n",
    "y = df['Class Index']"
   ]
  },
  {
   "cell_type": "markdown",
   "id": "9fd47542",
   "metadata": {},
   "source": [
    "### One Hot encode our Target Variable"
   ]
  },
  {
   "cell_type": "code",
   "execution_count": 20,
   "id": "ca1e920a",
   "metadata": {},
   "outputs": [],
   "source": [
    "encoder = LabelBinarizer()\n",
    "y = encoder.fit_transform(y)"
   ]
  },
  {
   "cell_type": "code",
   "execution_count": 21,
   "id": "9130e2df",
   "metadata": {},
   "outputs": [
    {
     "data": {
      "text/plain": [
       "array([1, 2, 3, 4], dtype=int64)"
      ]
     },
     "execution_count": 21,
     "metadata": {},
     "output_type": "execute_result"
    }
   ],
   "source": [
    "labels = encoder.classes_\n",
    "labels"
   ]
  },
  {
   "cell_type": "markdown",
   "id": "ff702320",
   "metadata": {},
   "source": [
    "### Split the dataset into Training & Testing Set"
   ]
  },
  {
   "cell_type": "code",
   "execution_count": 22,
   "id": "5bb963f3",
   "metadata": {},
   "outputs": [],
   "source": [
    "X_train, X_test, y_train, y_test = train_test_split(X,y, test_size = 0.20)"
   ]
  },
  {
   "cell_type": "markdown",
   "id": "4899cdd8",
   "metadata": {},
   "source": [
    "### Create a keras Tokenizer object"
   ]
  },
  {
   "cell_type": "markdown",
   "id": "a8d31af9",
   "metadata": {},
   "source": [
    "In the Keras library, the Tokenizer is a class that can be used to preprocess text data. It allows you to convert a collection of text documents into a numerical representation that can be used as input to a machine learning model."
   ]
  },
  {
   "cell_type": "code",
   "execution_count": 23,
   "id": "148b6602",
   "metadata": {},
   "outputs": [],
   "source": [
    "tokenizer = Tokenizer(num_words=5000)"
   ]
  },
  {
   "cell_type": "markdown",
   "id": "0106d65f",
   "metadata": {},
   "source": [
    "### fit on text for our X"
   ]
  },
  {
   "cell_type": "code",
   "execution_count": 24,
   "id": "e4b0e299",
   "metadata": {},
   "outputs": [],
   "source": [
    "tokenizer.fit_on_texts(X)"
   ]
  },
  {
   "cell_type": "code",
   "execution_count": 25,
   "id": "ea63d23d",
   "metadata": {},
   "outputs": [],
   "source": [
    "vocab_size = len(tokenizer.word_index) + 1"
   ]
  },
  {
   "cell_type": "markdown",
   "id": "af876411",
   "metadata": {},
   "source": [
    "### Create a function to convert text to numerical representation and add padding"
   ]
  },
  {
   "cell_type": "code",
   "execution_count": 26,
   "id": "afd5a26e",
   "metadata": {},
   "outputs": [],
   "source": [
    "def text_encoding(txt):\n",
    "    # texts_to_sequences Transforms each text in texts to a sequence of integers.\n",
    "    encoded_docs = tokenizer.texts_to_sequences(txt)\n",
    "    \n",
    "    # pad_sequences is used to ensure that all sequences in a list have the same length.\n",
    "    padded_sequence = pad_sequences(encoded_docs, maxlen=128)    \n",
    "       \n",
    "    return padded_sequence"
   ]
  },
  {
   "cell_type": "markdown",
   "id": "24006817",
   "metadata": {},
   "source": [
    "### Apply the function to our X_train & X_test"
   ]
  },
  {
   "cell_type": "code",
   "execution_count": 27,
   "id": "6a95adf7",
   "metadata": {},
   "outputs": [],
   "source": [
    "X_train = text_encoding(X_train)\n",
    "X_test = text_encoding(X_test)"
   ]
  },
  {
   "cell_type": "markdown",
   "id": "191d1a9f",
   "metadata": {},
   "source": [
    "### Create keras Sequential model with GRU Layers"
   ]
  },
  {
   "cell_type": "code",
   "execution_count": 28,
   "id": "d31f505c",
   "metadata": {},
   "outputs": [],
   "source": [
    "model = Sequential()\n",
    "### Embedding layer\n",
    "model.add(layers.Embedding(vocab_size, 128))\n",
    "\n",
    "### GRU layer\n",
    "### return_sequences: Whether to return the last output in the output sequence, or the full sequence.\n",
    "model.add(layers.GRU(128,  return_sequences=True))\n",
    "model.add(layers.Dropout(0.2))\n",
    "model.add(layers.GRU(128))\n",
    "model.add(layers.Dense(64, activation = 'relu'))\n",
    "model.add(layers.Dropout(0.2))\n",
    "\n",
    "model.add(layers.Dense(4, activation='softmax'))"
   ]
  },
  {
   "cell_type": "code",
   "execution_count": 29,
   "id": "5dfb1007",
   "metadata": {},
   "outputs": [
    {
     "data": {
      "text/html": [
       "<pre style=\"white-space:pre;overflow-x:auto;line-height:normal;font-family:Menlo,'DejaVu Sans Mono',consolas,'Courier New',monospace\"><span style=\"font-weight: bold\">Model: \"sequential\"</span>\n",
       "</pre>\n"
      ],
      "text/plain": [
       "\u001b[1mModel: \"sequential\"\u001b[0m\n"
      ]
     },
     "metadata": {},
     "output_type": "display_data"
    },
    {
     "data": {
      "text/html": [
       "<pre style=\"white-space:pre;overflow-x:auto;line-height:normal;font-family:Menlo,'DejaVu Sans Mono',consolas,'Courier New',monospace\">┏━━━━━━━━━━━━━━━━━━━━━━━━━━━━━━━━━━━━━━┳━━━━━━━━━━━━━━━━━━━━━━━━━━━━━┳━━━━━━━━━━━━━━━━━┓\n",
       "┃<span style=\"font-weight: bold\"> Layer (type)                         </span>┃<span style=\"font-weight: bold\"> Output Shape                </span>┃<span style=\"font-weight: bold\">         Param # </span>┃\n",
       "┡━━━━━━━━━━━━━━━━━━━━━━━━━━━━━━━━━━━━━━╇━━━━━━━━━━━━━━━━━━━━━━━━━━━━━╇━━━━━━━━━━━━━━━━━┩\n",
       "│ embedding (<span style=\"color: #0087ff; text-decoration-color: #0087ff\">Embedding</span>)                │ ?                           │     <span style=\"color: #00af00; text-decoration-color: #00af00\">0</span> (unbuilt) │\n",
       "├──────────────────────────────────────┼─────────────────────────────┼─────────────────┤\n",
       "│ gru (<span style=\"color: #0087ff; text-decoration-color: #0087ff\">GRU</span>)                            │ ?                           │     <span style=\"color: #00af00; text-decoration-color: #00af00\">0</span> (unbuilt) │\n",
       "├──────────────────────────────────────┼─────────────────────────────┼─────────────────┤\n",
       "│ dropout (<span style=\"color: #0087ff; text-decoration-color: #0087ff\">Dropout</span>)                    │ ?                           │     <span style=\"color: #00af00; text-decoration-color: #00af00\">0</span> (unbuilt) │\n",
       "├──────────────────────────────────────┼─────────────────────────────┼─────────────────┤\n",
       "│ gru_1 (<span style=\"color: #0087ff; text-decoration-color: #0087ff\">GRU</span>)                          │ ?                           │     <span style=\"color: #00af00; text-decoration-color: #00af00\">0</span> (unbuilt) │\n",
       "├──────────────────────────────────────┼─────────────────────────────┼─────────────────┤\n",
       "│ dense (<span style=\"color: #0087ff; text-decoration-color: #0087ff\">Dense</span>)                        │ ?                           │     <span style=\"color: #00af00; text-decoration-color: #00af00\">0</span> (unbuilt) │\n",
       "├──────────────────────────────────────┼─────────────────────────────┼─────────────────┤\n",
       "│ dropout_1 (<span style=\"color: #0087ff; text-decoration-color: #0087ff\">Dropout</span>)                  │ ?                           │     <span style=\"color: #00af00; text-decoration-color: #00af00\">0</span> (unbuilt) │\n",
       "├──────────────────────────────────────┼─────────────────────────────┼─────────────────┤\n",
       "│ dense_1 (<span style=\"color: #0087ff; text-decoration-color: #0087ff\">Dense</span>)                      │ ?                           │     <span style=\"color: #00af00; text-decoration-color: #00af00\">0</span> (unbuilt) │\n",
       "└──────────────────────────────────────┴─────────────────────────────┴─────────────────┘\n",
       "</pre>\n"
      ],
      "text/plain": [
       "┏━━━━━━━━━━━━━━━━━━━━━━━━━━━━━━━━━━━━━━┳━━━━━━━━━━━━━━━━━━━━━━━━━━━━━┳━━━━━━━━━━━━━━━━━┓\n",
       "┃\u001b[1m \u001b[0m\u001b[1mLayer (type)                        \u001b[0m\u001b[1m \u001b[0m┃\u001b[1m \u001b[0m\u001b[1mOutput Shape               \u001b[0m\u001b[1m \u001b[0m┃\u001b[1m \u001b[0m\u001b[1m        Param #\u001b[0m\u001b[1m \u001b[0m┃\n",
       "┡━━━━━━━━━━━━━━━━━━━━━━━━━━━━━━━━━━━━━━╇━━━━━━━━━━━━━━━━━━━━━━━━━━━━━╇━━━━━━━━━━━━━━━━━┩\n",
       "│ embedding (\u001b[38;5;33mEmbedding\u001b[0m)                │ ?                           │     \u001b[38;5;34m0\u001b[0m (unbuilt) │\n",
       "├──────────────────────────────────────┼─────────────────────────────┼─────────────────┤\n",
       "│ gru (\u001b[38;5;33mGRU\u001b[0m)                            │ ?                           │     \u001b[38;5;34m0\u001b[0m (unbuilt) │\n",
       "├──────────────────────────────────────┼─────────────────────────────┼─────────────────┤\n",
       "│ dropout (\u001b[38;5;33mDropout\u001b[0m)                    │ ?                           │     \u001b[38;5;34m0\u001b[0m (unbuilt) │\n",
       "├──────────────────────────────────────┼─────────────────────────────┼─────────────────┤\n",
       "│ gru_1 (\u001b[38;5;33mGRU\u001b[0m)                          │ ?                           │     \u001b[38;5;34m0\u001b[0m (unbuilt) │\n",
       "├──────────────────────────────────────┼─────────────────────────────┼─────────────────┤\n",
       "│ dense (\u001b[38;5;33mDense\u001b[0m)                        │ ?                           │     \u001b[38;5;34m0\u001b[0m (unbuilt) │\n",
       "├──────────────────────────────────────┼─────────────────────────────┼─────────────────┤\n",
       "│ dropout_1 (\u001b[38;5;33mDropout\u001b[0m)                  │ ?                           │     \u001b[38;5;34m0\u001b[0m (unbuilt) │\n",
       "├──────────────────────────────────────┼─────────────────────────────┼─────────────────┤\n",
       "│ dense_1 (\u001b[38;5;33mDense\u001b[0m)                      │ ?                           │     \u001b[38;5;34m0\u001b[0m (unbuilt) │\n",
       "└──────────────────────────────────────┴─────────────────────────────┴─────────────────┘\n"
      ]
     },
     "metadata": {},
     "output_type": "display_data"
    },
    {
     "data": {
      "text/html": [
       "<pre style=\"white-space:pre;overflow-x:auto;line-height:normal;font-family:Menlo,'DejaVu Sans Mono',consolas,'Courier New',monospace\"><span style=\"font-weight: bold\"> Total params: </span><span style=\"color: #00af00; text-decoration-color: #00af00\">0</span> (0.00 B)\n",
       "</pre>\n"
      ],
      "text/plain": [
       "\u001b[1m Total params: \u001b[0m\u001b[38;5;34m0\u001b[0m (0.00 B)\n"
      ]
     },
     "metadata": {},
     "output_type": "display_data"
    },
    {
     "data": {
      "text/html": [
       "<pre style=\"white-space:pre;overflow-x:auto;line-height:normal;font-family:Menlo,'DejaVu Sans Mono',consolas,'Courier New',monospace\"><span style=\"font-weight: bold\"> Trainable params: </span><span style=\"color: #00af00; text-decoration-color: #00af00\">0</span> (0.00 B)\n",
       "</pre>\n"
      ],
      "text/plain": [
       "\u001b[1m Trainable params: \u001b[0m\u001b[38;5;34m0\u001b[0m (0.00 B)\n"
      ]
     },
     "metadata": {},
     "output_type": "display_data"
    },
    {
     "data": {
      "text/html": [
       "<pre style=\"white-space:pre;overflow-x:auto;line-height:normal;font-family:Menlo,'DejaVu Sans Mono',consolas,'Courier New',monospace\"><span style=\"font-weight: bold\"> Non-trainable params: </span><span style=\"color: #00af00; text-decoration-color: #00af00\">0</span> (0.00 B)\n",
       "</pre>\n"
      ],
      "text/plain": [
       "\u001b[1m Non-trainable params: \u001b[0m\u001b[38;5;34m0\u001b[0m (0.00 B)\n"
      ]
     },
     "metadata": {},
     "output_type": "display_data"
    }
   ],
   "source": [
    "model.summary()"
   ]
  },
  {
   "cell_type": "markdown",
   "id": "c4597e5a",
   "metadata": {},
   "source": [
    "### Compile the model"
   ]
  },
  {
   "cell_type": "code",
   "execution_count": 30,
   "id": "c6cce8d0",
   "metadata": {},
   "outputs": [],
   "source": [
    "model.compile(loss = 'categorical_crossentropy', optimizer = 'adam', metrics = ['accuracy'])"
   ]
  },
  {
   "cell_type": "markdown",
   "id": "afb8b6a5",
   "metadata": {},
   "source": [
    "### Train the model with our Training Set"
   ]
  },
  {
   "cell_type": "code",
   "execution_count": 31,
   "id": "855364a0",
   "metadata": {},
   "outputs": [
    {
     "name": "stdout",
     "output_type": "stream",
     "text": [
      "Epoch 1/10\n",
      "\u001b[1m400/400\u001b[0m \u001b[32m━━━━━━━━━━━━━━━━━━━━\u001b[0m\u001b[37m\u001b[0m \u001b[1m96s\u001b[0m 215ms/step - accuracy: 0.6290 - loss: 0.8667 - val_accuracy: 0.8700 - val_loss: 0.3997\n",
      "Epoch 2/10\n",
      "\u001b[1m400/400\u001b[0m \u001b[32m━━━━━━━━━━━━━━━━━━━━\u001b[0m\u001b[37m\u001b[0m \u001b[1m83s\u001b[0m 207ms/step - accuracy: 0.9154 - loss: 0.2726 - val_accuracy: 0.8756 - val_loss: 0.3777\n",
      "Epoch 3/10\n",
      "\u001b[1m400/400\u001b[0m \u001b[32m━━━━━━━━━━━━━━━━━━━━\u001b[0m\u001b[37m\u001b[0m \u001b[1m83s\u001b[0m 207ms/step - accuracy: 0.9407 - loss: 0.1971 - val_accuracy: 0.8675 - val_loss: 0.4095\n",
      "Epoch 4/10\n",
      "\u001b[1m400/400\u001b[0m \u001b[32m━━━━━━━━━━━━━━━━━━━━\u001b[0m\u001b[37m\u001b[0m \u001b[1m83s\u001b[0m 208ms/step - accuracy: 0.9570 - loss: 0.1336 - val_accuracy: 0.8662 - val_loss: 0.4592\n",
      "Epoch 5/10\n",
      "\u001b[1m400/400\u001b[0m \u001b[32m━━━━━━━━━━━━━━━━━━━━\u001b[0m\u001b[37m\u001b[0m \u001b[1m83s\u001b[0m 208ms/step - accuracy: 0.9682 - loss: 0.1047 - val_accuracy: 0.8481 - val_loss: 0.5996\n",
      "Epoch 6/10\n",
      "\u001b[1m400/400\u001b[0m \u001b[32m━━━━━━━━━━━━━━━━━━━━\u001b[0m\u001b[37m\u001b[0m \u001b[1m84s\u001b[0m 209ms/step - accuracy: 0.9743 - loss: 0.0791 - val_accuracy: 0.8562 - val_loss: 0.5622\n",
      "Epoch 7/10\n",
      "\u001b[1m400/400\u001b[0m \u001b[32m━━━━━━━━━━━━━━━━━━━━\u001b[0m\u001b[37m\u001b[0m \u001b[1m84s\u001b[0m 210ms/step - accuracy: 0.9784 - loss: 0.0697 - val_accuracy: 0.8544 - val_loss: 0.6603\n",
      "Epoch 8/10\n",
      "\u001b[1m400/400\u001b[0m \u001b[32m━━━━━━━━━━━━━━━━━━━━\u001b[0m\u001b[37m\u001b[0m \u001b[1m84s\u001b[0m 210ms/step - accuracy: 0.9852 - loss: 0.0450 - val_accuracy: 0.8556 - val_loss: 0.7811\n",
      "Epoch 9/10\n",
      "\u001b[1m400/400\u001b[0m \u001b[32m━━━━━━━━━━━━━━━━━━━━\u001b[0m\u001b[37m\u001b[0m \u001b[1m84s\u001b[0m 211ms/step - accuracy: 0.9875 - loss: 0.0393 - val_accuracy: 0.8444 - val_loss: 0.7469\n",
      "Epoch 10/10\n",
      "\u001b[1m400/400\u001b[0m \u001b[32m━━━━━━━━━━━━━━━━━━━━\u001b[0m\u001b[37m\u001b[0m \u001b[1m84s\u001b[0m 210ms/step - accuracy: 0.9888 - loss: 0.0319 - val_accuracy: 0.8447 - val_loss: 0.8228\n"
     ]
    },
    {
     "data": {
      "text/plain": [
       "<keras.src.callbacks.history.History at 0x1956babfb50>"
      ]
     },
     "execution_count": 31,
     "metadata": {},
     "output_type": "execute_result"
    }
   ],
   "source": [
    "model.fit(X_train, y_train, epochs=10, validation_split = 0.2)"
   ]
  },
  {
   "cell_type": "markdown",
   "id": "d70c5388",
   "metadata": {},
   "source": [
    "### Make predictions with Test set"
   ]
  },
  {
   "cell_type": "code",
   "execution_count": 32,
   "id": "402a9f17",
   "metadata": {},
   "outputs": [
    {
     "name": "stdout",
     "output_type": "stream",
     "text": [
      "\u001b[1m125/125\u001b[0m \u001b[32m━━━━━━━━━━━━━━━━━━━━\u001b[0m\u001b[37m\u001b[0m \u001b[1m9s\u001b[0m 63ms/step\n"
     ]
    }
   ],
   "source": [
    "y_pred = model.predict(X_test)"
   ]
  },
  {
   "cell_type": "code",
   "execution_count": 33,
   "id": "75decae9",
   "metadata": {},
   "outputs": [],
   "source": [
    "y_pred = [np.argmax(i) for i in y_pred]"
   ]
  },
  {
   "cell_type": "code",
   "execution_count": 34,
   "id": "108c7e00",
   "metadata": {},
   "outputs": [],
   "source": [
    "y_test = [np.argmax(i) for i in y_test]"
   ]
  },
  {
   "cell_type": "markdown",
   "id": "30229689",
   "metadata": {},
   "source": [
    "### Check accuracy score"
   ]
  },
  {
   "cell_type": "code",
   "execution_count": 35,
   "id": "6f9323a6",
   "metadata": {},
   "outputs": [
    {
     "data": {
      "text/plain": [
       "0.84175"
      ]
     },
     "execution_count": 35,
     "metadata": {},
     "output_type": "execute_result"
    }
   ],
   "source": [
    "accuracy_score(y_test, y_pred)"
   ]
  },
  {
   "cell_type": "markdown",
   "id": "5a39c920",
   "metadata": {},
   "source": [
    "### Confusion matrix"
   ]
  },
  {
   "cell_type": "code",
   "execution_count": 36,
   "id": "ceb3bd58",
   "metadata": {
    "scrolled": false
   },
   "outputs": [
    {
     "data": {
      "image/png": "[encoded data removed]",
      "text/plain": [
       "<Figure size 1000x800 with 2 Axes>"
      ]
     },
     "metadata": {},
     "output_type": "display_data"
    }
   ],
   "source": [
    "plt.figure(figsize = (10,8))\n",
    "sns.heatmap(confusion_matrix(y_test, y_pred), annot = True, fmt = 'd')\n",
    "plt.show()"
   ]
  },
  {
   "cell_type": "markdown",
   "id": "4e526365",
   "metadata": {},
   "source": [
    "### Classification Report"
   ]
  },
  {
   "cell_type": "code",
   "execution_count": 37,
   "id": "d16a8e33",
   "metadata": {},
   "outputs": [
    {
     "name": "stdout",
     "output_type": "stream",
     "text": [
      "              precision    recall  f1-score   support\n",
      "\n",
      "           0       0.83      0.83      0.83      1050\n",
      "           1       0.88      0.94      0.91       965\n",
      "           2       0.84      0.75      0.79       959\n",
      "           3       0.81      0.85      0.83      1026\n",
      "\n",
      "    accuracy                           0.84      4000\n",
      "   macro avg       0.84      0.84      0.84      4000\n",
      "weighted avg       0.84      0.84      0.84      4000\n",
      "\n"
     ]
    }
   ],
   "source": [
    "print(classification_report(y_test, y_pred))"
   ]
  },
  {
   "cell_type": "markdown",
   "id": "868d86dc",
   "metadata": {},
   "source": [
    "***"
   ]
  }
 ],
 "metadata": {
  "kernelspec": {
   "display_name": "Python 3 (ipykernel)",
   "language": "python",
   "name": "python3"
  },
  "language_info": {
   "codemirror_mode": {
    "name": "ipython",
    "version": 3
   },
   "file_extension": ".py",
   "mimetype": "text/x-python",
   "name": "python",
   "nbconvert_exporter": "python",
   "pygments_lexer": "ipython3",
   "version": "3.11.7"
  }
 },
 "nbformat": 4,
 "nbformat_minor": 5
}
