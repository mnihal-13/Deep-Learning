{
 "cells": [
  {
   "cell_type": "code",
   "execution_count": null,
   "id": "7dc17795",
   "metadata": {},
   "outputs": [],
   "source": []
  },
  {
   "cell_type": "markdown",
   "id": "2893bacb",
   "metadata": {},
   "source": [
    "### Ecommerce Text Classification"
   ]
  },
  {
   "cell_type": "markdown",
   "id": "cab905c1",
   "metadata": {},
   "source": [
    "***"
   ]
  },
  {
   "cell_type": "markdown",
   "id": "cea8d0e2",
   "metadata": {},
   "source": [
    "This is the classification based E-commerce text dataset for 4 categories - \"Electronics\", \"Household\", \"Books\" and \"Clothing & Accessories\", which almost cover 80% of any E-commerce website.\n",
    "\n",
    "The dataset is in \".csv\" format with two columns - the first column is the class name and the second one is the datapoint of that class. The data point is the product and description from the e-commerce website."
   ]
  },
  {
   "cell_type": "code",
   "execution_count": 1,
   "id": "b6b2ea6c",
   "metadata": {},
   "outputs": [],
   "source": [
    "import numpy as np\n",
    "import pandas as pd\n",
    "import matplotlib.pyplot as plt\n",
    "import seaborn as sns\n",
    "import re\n",
    "from nltk.stem import WordNetLemmatizer\n",
    "from tensorflow.keras.preprocessing.text import Tokenizer\n",
    "from tensorflow.keras.preprocessing.sequence import pad_sequences\n",
    "from sklearn.model_selection import train_test_split\n",
    "from tensorflow.keras import Sequential, layers\n",
    "from sklearn.metrics import accuracy_score, confusion_matrix, classification_report"
   ]
  },
  {
   "cell_type": "markdown",
   "id": "13947023",
   "metadata": {},
   "source": [
    "### Read 'ecommerceDataset.csv'"
   ]
  },
  {
   "cell_type": "code",
   "execution_count": 2,
   "id": "0be115c8",
   "metadata": {},
   "outputs": [],
   "source": [
    "#There is no column names in the dataset, so when we call the data set the first row will get into the column name\n",
    "#To avoid that, we set the 'header' parameter into 'None'\n",
    "df = pd.read_csv('ecommerceDataset.csv', header = None)"
   ]
  },
  {
   "cell_type": "code",
   "execution_count": 3,
   "id": "95a0aed2",
   "metadata": {},
   "outputs": [],
   "source": [
    "#TO shuffle the dataset\n",
    "df = df.sample(frac = 1)"
   ]
  },
  {
   "cell_type": "code",
   "execution_count": 4,
   "id": "bb7db9c8",
   "metadata": {},
   "outputs": [],
   "source": [
    "df.reset_index(drop = True, inplace = True)"
   ]
  },
  {
   "cell_type": "code",
   "execution_count": 5,
   "id": "876cadfd",
   "metadata": {},
   "outputs": [],
   "source": [
    "df = df[0:1000]"
   ]
  },
  {
   "cell_type": "code",
   "execution_count": 6,
   "id": "be3060d2",
   "metadata": {},
   "outputs": [
    {
     "data": {
      "text/html": [
       "<div>\n",
       "<style scoped>\n",
       "    .dataframe tbody tr th:only-of-type {\n",
       "        vertical-align: middle;\n",
       "    }\n",
       "\n",
       "    .dataframe tbody tr th {\n",
       "        vertical-align: top;\n",
       "    }\n",
       "\n",
       "    .dataframe thead th {\n",
       "        text-align: right;\n",
       "    }\n",
       "</style>\n",
       "<table border=\"1\" class=\"dataframe\">\n",
       "  <thead>\n",
       "    <tr style=\"text-align: right;\">\n",
       "      <th></th>\n",
       "      <th>0</th>\n",
       "      <th>1</th>\n",
       "    </tr>\n",
       "  </thead>\n",
       "  <tbody>\n",
       "    <tr>\n",
       "      <th>0</th>\n",
       "      <td>Electronics</td>\n",
       "      <td>Pcs System -K7ts Total Security 1-User Activat...</td>\n",
       "    </tr>\n",
       "    <tr>\n",
       "      <th>1</th>\n",
       "      <td>Household</td>\n",
       "      <td>Hungry Foal Chocochip Muffin - (Box of 10 Muff...</td>\n",
       "    </tr>\n",
       "    <tr>\n",
       "      <th>2</th>\n",
       "      <td>Books</td>\n",
       "      <td>A Set of Three Charts (Opposite+Height+Table) ...</td>\n",
       "    </tr>\n",
       "    <tr>\n",
       "      <th>3</th>\n",
       "      <td>Electronics</td>\n",
       "      <td>Spe Tulip 58Mm Flower Lens Hood (Black) For Ca...</td>\n",
       "    </tr>\n",
       "    <tr>\n",
       "      <th>4</th>\n",
       "      <td>Household</td>\n",
       "      <td>Borosil Salad Cutter,Black You demand the best...</td>\n",
       "    </tr>\n",
       "  </tbody>\n",
       "</table>\n",
       "</div>"
      ],
      "text/plain": [
       "             0                                                  1\n",
       "0  Electronics  Pcs System -K7ts Total Security 1-User Activat...\n",
       "1    Household  Hungry Foal Chocochip Muffin - (Box of 10 Muff...\n",
       "2        Books  A Set of Three Charts (Opposite+Height+Table) ...\n",
       "3  Electronics  Spe Tulip 58Mm Flower Lens Hood (Black) For Ca...\n",
       "4    Household  Borosil Salad Cutter,Black You demand the best..."
      ]
     },
     "execution_count": 6,
     "metadata": {},
     "output_type": "execute_result"
    }
   ],
   "source": [
    "df.head()"
   ]
  },
  {
   "cell_type": "markdown",
   "id": "2f134edf",
   "metadata": {},
   "source": [
    "### Check info"
   ]
  },
  {
   "cell_type": "code",
   "execution_count": 7,
   "id": "7e7e63e8",
   "metadata": {},
   "outputs": [
    {
     "name": "stdout",
     "output_type": "stream",
     "text": [
      "<class 'pandas.core.frame.DataFrame'>\n",
      "RangeIndex: 1000 entries, 0 to 999\n",
      "Data columns (total 2 columns):\n",
      " #   Column  Non-Null Count  Dtype \n",
      "---  ------  --------------  ----- \n",
      " 0   0       1000 non-null   object\n",
      " 1   1       1000 non-null   object\n",
      "dtypes: object(2)\n",
      "memory usage: 15.8+ KB\n"
     ]
    }
   ],
   "source": [
    "df.info()"
   ]
  },
  {
   "cell_type": "markdown",
   "id": "6ddb6118",
   "metadata": {},
   "source": [
    "### Check for missing values"
   ]
  },
  {
   "cell_type": "code",
   "execution_count": 8,
   "id": "7210798c",
   "metadata": {},
   "outputs": [
    {
     "data": {
      "text/plain": [
       "0    0\n",
       "1    0\n",
       "dtype: int64"
      ]
     },
     "execution_count": 8,
     "metadata": {},
     "output_type": "execute_result"
    }
   ],
   "source": [
    "df.isna().sum()"
   ]
  },
  {
   "cell_type": "markdown",
   "id": "ddfee8a5",
   "metadata": {},
   "source": [
    "### Drop missing rows"
   ]
  },
  {
   "cell_type": "code",
   "execution_count": 9,
   "id": "53d8e062",
   "metadata": {},
   "outputs": [],
   "source": [
    "df.dropna(inplace = True)"
   ]
  },
  {
   "cell_type": "markdown",
   "id": "b329541d",
   "metadata": {},
   "source": [
    "### Print some of the text along with its Label"
   ]
  },
  {
   "cell_type": "code",
   "execution_count": 10,
   "id": "929a39cf",
   "metadata": {},
   "outputs": [
    {
     "name": "stdout",
     "output_type": "stream",
     "text": [
      "Electronics -- Pcs System -K7ts Total Security 1-User Activation Serial key (Multicolour) Get your device with k7's enhanced scan engine in antivirus, a simple and basic protection that every computer needs. Its intelligent real time scanner scans for vulnerabilities. K7 will serve as the backbone of your device's defense system. This is security simplified at your disposal.\n",
      "\n",
      "Household -- Hungry Foal Chocochip Muffin - (Box of 10 Muffins) Made with a blend of wheat flour and oats flour, our muffins suit the taste buds of all age groups. Draped with chocolate enjoy our decadent Chocochip Muffins, which are fortified, bountiful and all time nutritious snack. Chocochip Muffins are a good source of micronutrients & offers a good combination of Protein Profile viz Whey Protein, Wheat Protein, Oats Protein, Milk Protein, Soya Protein\n",
      "\n",
      "Books -- A Set of Three Charts (Opposite+Height+Table) (Charts) Beautifully designed and printed in four colours on a very thick paper with a lamination on the front side so that the chart can last long. You can paste the chart on any wall with double side tape and you can as well easily remove and shift the chart any other place too.\n",
      "\n",
      "Electronics -- Spe Tulip 58Mm Flower Lens Hood (Black) For Canon Eos 55-250Mm 18-55Mm Ef Lens The lens hood is a piece of plastic that clips onto the front of a camera lens and extends beyond it. Lens hoods serve two primary purposes: (1) reducing lens flare, and (2) protecting the lens from damage. The intended purpose of the lens hood is simply to reduce lens flare, but the protection it provides to the glass elements of the lens is a beneficial side-effect.\n",
      "\n",
      "Household -- Borosil Salad Cutter,Black You demand the best of yourself, so its right you enjoy the best from us. Famous for high quality and performance, we pour our experience into creating beautifully designed, simple, smart and practical products like the Salad Cutter. Now it is easier than ever to prepare beautiful looking and delicious salads. It helps to balance your busy, modern life, making whatever you're doing healthier, simpler and smarter.\n",
      "\n"
     ]
    }
   ],
   "source": [
    "for i in range(5):\n",
    "    print(df[0][i],'--',df[1][i])\n",
    "    print()"
   ]
  },
  {
   "cell_type": "markdown",
   "id": "8261530c",
   "metadata": {},
   "source": [
    "### Create a function to preprocess the text"
   ]
  },
  {
   "cell_type": "code",
   "execution_count": 11,
   "id": "9dbc6fe4",
   "metadata": {},
   "outputs": [],
   "source": [
    "def preprocess(sentence):\n",
    "    sentence = sentence.lower()\n",
    "    \n",
    "    text = re.sub(r\"[^a-zA-Z0-9]\", ' ', sentence).split()\n",
    "    \n",
    "    lemma = WordNetLemmatizer()\n",
    "    text = [lemma.lemmatize(i) for i in text]\n",
    "    \n",
    "    return ' '.join(text)"
   ]
  },
  {
   "cell_type": "code",
   "execution_count": 12,
   "id": "b9dbec61",
   "metadata": {},
   "outputs": [],
   "source": [
    "df[1] = df[1].apply(preprocess)"
   ]
  },
  {
   "cell_type": "markdown",
   "id": "6ca61a38",
   "metadata": {},
   "source": [
    "### Print some of the texts after the applying the function"
   ]
  },
  {
   "cell_type": "code",
   "execution_count": 13,
   "id": "1a16a6fa",
   "metadata": {},
   "outputs": [
    {
     "name": "stdout",
     "output_type": "stream",
     "text": [
      "Electronics -- pc system k7ts total security 1 user activation serial key multicolour get your device with k7 s enhanced scan engine in antivirus a simple and basic protection that every computer need it intelligent real time scanner scan for vulnerability k7 will serve a the backbone of your device s defense system this is security simplified at your disposal\n",
      "\n",
      "Household -- hungry foal chocochip muffin box of 10 muffin made with a blend of wheat flour and oat flour our muffin suit the taste bud of all age group draped with chocolate enjoy our decadent chocochip muffin which are fortified bountiful and all time nutritious snack chocochip muffin are a good source of micronutrient offer a good combination of protein profile viz whey protein wheat protein oat protein milk protein soya protein\n",
      "\n",
      "Books -- a set of three chart opposite height table chart beautifully designed and printed in four colour on a very thick paper with a lamination on the front side so that the chart can last long you can paste the chart on any wall with double side tape and you can a well easily remove and shift the chart any other place too\n",
      "\n",
      "Electronics -- spe tulip 58mm flower lens hood black for canon eos 55 250mm 18 55mm ef lens the lens hood is a piece of plastic that clip onto the front of a camera lens and extends beyond it lens hood serve two primary purpose 1 reducing lens flare and 2 protecting the lens from damage the intended purpose of the lens hood is simply to reduce lens flare but the protection it provides to the glass element of the lens is a beneficial side effect\n",
      "\n",
      "Household -- borosil salad cutter black you demand the best of yourself so it right you enjoy the best from u famous for high quality and performance we pour our experience into creating beautifully designed simple smart and practical product like the salad cutter now it is easier than ever to prepare beautiful looking and delicious salad it help to balance your busy modern life making whatever you re doing healthier simpler and smarter\n",
      "\n"
     ]
    }
   ],
   "source": [
    "for i in range(5):\n",
    "    print(df[0][i],'--',df[1][i])\n",
    "    print()"
   ]
  },
  {
   "cell_type": "markdown",
   "id": "6453c4c8",
   "metadata": {},
   "source": [
    "### Check for imbalance in the dataset"
   ]
  },
  {
   "cell_type": "code",
   "execution_count": 16,
   "id": "b26a2b82",
   "metadata": {},
   "outputs": [
    {
     "data": {
      "text/plain": [
       "<Axes: ylabel='count'>"
      ]
     },
     "execution_count": 16,
     "metadata": {},
     "output_type": "execute_result"
    },
    {
     "data": {
      "image/png": "[encoded data removed]",
      "text/plain": [
       "<Figure size 1400x400 with 2 Axes>"
      ]
     },
     "metadata": {},
     "output_type": "display_data"
    }
   ],
   "source": [
    "plt.figure(figsize= (14,4))\n",
    "plt.subplot(1,2,1)\n",
    "sns.countplot(y = df[0], palette='muted', hue=df[0])\n",
    "plt.subplot(1,2,2)\n",
    "df[0].value_counts().plot.pie(autopct = '%1.1f%%', cmap = 'plasma')"
   ]
  },
  {
   "cell_type": "markdown",
   "id": "ae6df594",
   "metadata": {},
   "source": [
    "### Split the dataset into Input & Target Variables"
   ]
  },
  {
   "cell_type": "code",
   "execution_count": 17,
   "id": "35bba160",
   "metadata": {},
   "outputs": [],
   "source": [
    "X = df[1]"
   ]
  },
  {
   "cell_type": "code",
   "execution_count": 18,
   "id": "700b5d61",
   "metadata": {},
   "outputs": [],
   "source": [
    "y = df[0]"
   ]
  },
  {
   "cell_type": "markdown",
   "id": "391c3c5e",
   "metadata": {},
   "source": [
    "### Label Encode our Target Variables"
   ]
  },
  {
   "cell_type": "code",
   "execution_count": 19,
   "id": "b23ffb32",
   "metadata": {},
   "outputs": [],
   "source": [
    "y = y.map({'Household':0,'Books':1, 'Clothing & Accessories':2, 'Electronics':3})"
   ]
  },
  {
   "cell_type": "markdown",
   "id": "dd925a6a",
   "metadata": {},
   "source": [
    "### Create Keras tokenizer object with 5000 max words\n",
    "* Convert text to sequence\n",
    "* Add padding"
   ]
  },
  {
   "cell_type": "code",
   "execution_count": 20,
   "id": "1602b299",
   "metadata": {},
   "outputs": [],
   "source": [
    "tokenizer = Tokenizer(num_words=5000)\n",
    "tokenizer.fit_on_texts(X)\n",
    "vocab_size = len(tokenizer.word_index) + 1\n",
    "\n",
    "def text_encoding(txt):\n",
    "    encoded_docs = tokenizer.texts_to_sequences(txt)\n",
    "    \n",
    "    padded_sequence = pad_sequences(encoded_docs, maxlen = 128)\n",
    "    \n",
    "    return padded_sequence\n",
    "\n",
    "X = text_encoding(X)"
   ]
  },
  {
   "cell_type": "markdown",
   "id": "646a5215",
   "metadata": {},
   "source": [
    "### Split the dataset into Training & Testing set"
   ]
  },
  {
   "cell_type": "code",
   "execution_count": 21,
   "id": "031d0aeb",
   "metadata": {},
   "outputs": [],
   "source": [
    "X_train, X_test,y_train,y_test = train_test_split(X,y, test_size = 0.2)"
   ]
  },
  {
   "cell_type": "markdown",
   "id": "8a03f6e5",
   "metadata": {},
   "source": [
    "### Create keras Sequential model with Bidirectional LSTM layers"
   ]
  },
  {
   "cell_type": "code",
   "execution_count": 22,
   "id": "df2f07b8",
   "metadata": {},
   "outputs": [],
   "source": [
    "model = Sequential()\n",
    "\n",
    "model.add(layers.Embedding(vocab_size, 128))\n",
    "\n",
    "model.add(layers.Bidirectional(layers.LSTM(128, return_sequences=True)))\n",
    "model.add(layers.Dropout(0.2))\n",
    "\n",
    "model.add(layers.Bidirectional(layers.LSTM(128)))\n",
    "model.add(layers.Dropout(0.2))\n",
    "\n",
    "model.add(layers.Dense(4, activation = 'sigmoid'))"
   ]
  },
  {
   "cell_type": "markdown",
   "id": "3652d285",
   "metadata": {},
   "source": [
    "### Compile the model"
   ]
  },
  {
   "cell_type": "code",
   "execution_count": 23,
   "id": "7257228e",
   "metadata": {},
   "outputs": [],
   "source": [
    "model.compile(optimizer = 'adam', loss= 'sparse_categorical_crossentropy', metrics = ['accuracy'])"
   ]
  },
  {
   "cell_type": "markdown",
   "id": "00de5e0e",
   "metadata": {},
   "source": [
    "### Train the model"
   ]
  },
  {
   "cell_type": "code",
   "execution_count": 24,
   "id": "b3b014fc",
   "metadata": {},
   "outputs": [
    {
     "name": "stdout",
     "output_type": "stream",
     "text": [
      "Epoch 1/10\n",
      "\u001b[1m24/24\u001b[0m \u001b[32m━━━━━━━━━━━━━━━━━━━━\u001b[0m\u001b[37m\u001b[0m \u001b[1m23s\u001b[0m 338ms/step - accuracy: 0.3548 - loss: 1.3406 - val_accuracy: 0.4500 - val_loss: 1.2623\n",
      "Epoch 2/10\n",
      "\u001b[1m24/24\u001b[0m \u001b[32m━━━━━━━━━━━━━━━━━━━━\u001b[0m\u001b[37m\u001b[0m \u001b[1m6s\u001b[0m 268ms/step - accuracy: 0.5247 - loss: 1.0732 - val_accuracy: 0.5000 - val_loss: 1.1759\n",
      "Epoch 3/10\n",
      "\u001b[1m24/24\u001b[0m \u001b[32m━━━━━━━━━━━━━━━━━━━━\u001b[0m\u001b[37m\u001b[0m \u001b[1m6s\u001b[0m 263ms/step - accuracy: 0.6787 - loss: 0.7440 - val_accuracy: 0.6250 - val_loss: 0.7924\n",
      "Epoch 4/10\n",
      "\u001b[1m24/24\u001b[0m \u001b[32m━━━━━━━━━━━━━━━━━━━━\u001b[0m\u001b[37m\u001b[0m \u001b[1m6s\u001b[0m 260ms/step - accuracy: 0.7945 - loss: 0.5111 - val_accuracy: 0.9500 - val_loss: 0.3562\n",
      "Epoch 5/10\n",
      "\u001b[1m24/24\u001b[0m \u001b[32m━━━━━━━━━━━━━━━━━━━━\u001b[0m\u001b[37m\u001b[0m \u001b[1m6s\u001b[0m 266ms/step - accuracy: 0.9555 - loss: 0.1875 - val_accuracy: 0.8500 - val_loss: 0.4307\n",
      "Epoch 6/10\n",
      "\u001b[1m24/24\u001b[0m \u001b[32m━━━━━━━━━━━━━━━━━━━━\u001b[0m\u001b[37m\u001b[0m \u001b[1m6s\u001b[0m 262ms/step - accuracy: 0.9616 - loss: 0.1066 - val_accuracy: 0.8000 - val_loss: 0.5125\n",
      "Epoch 7/10\n",
      "\u001b[1m24/24\u001b[0m \u001b[32m━━━━━━━━━━━━━━━━━━━━\u001b[0m\u001b[37m\u001b[0m \u001b[1m7s\u001b[0m 269ms/step - accuracy: 0.9750 - loss: 0.0979 - val_accuracy: 0.8500 - val_loss: 0.4277\n",
      "Epoch 8/10\n",
      "\u001b[1m24/24\u001b[0m \u001b[32m━━━━━━━━━━━━━━━━━━━━\u001b[0m\u001b[37m\u001b[0m \u001b[1m6s\u001b[0m 267ms/step - accuracy: 0.9938 - loss: 0.0281 - val_accuracy: 0.8500 - val_loss: 0.3946\n",
      "Epoch 9/10\n",
      "\u001b[1m24/24\u001b[0m \u001b[32m━━━━━━━━━━━━━━━━━━━━\u001b[0m\u001b[37m\u001b[0m \u001b[1m6s\u001b[0m 264ms/step - accuracy: 0.9964 - loss: 0.0123 - val_accuracy: 0.8750 - val_loss: 0.3959\n",
      "Epoch 10/10\n",
      "\u001b[1m24/24\u001b[0m \u001b[32m━━━━━━━━━━━━━━━━━━━━\u001b[0m\u001b[37m\u001b[0m \u001b[1m6s\u001b[0m 267ms/step - accuracy: 1.0000 - loss: 0.0056 - val_accuracy: 0.9250 - val_loss: 0.3690\n"
     ]
    },
    {
     "data": {
      "text/plain": [
       "<keras.src.callbacks.history.History at 0x169b8385c90>"
      ]
     },
     "execution_count": 24,
     "metadata": {},
     "output_type": "execute_result"
    }
   ],
   "source": [
    "model.fit(X_train, y_train, epochs = 10, validation_split=0.05)"
   ]
  },
  {
   "cell_type": "markdown",
   "id": "7286d926",
   "metadata": {},
   "source": [
    "### Make predictions with X_test"
   ]
  },
  {
   "cell_type": "code",
   "execution_count": 25,
   "id": "9c0c2c9a",
   "metadata": {},
   "outputs": [
    {
     "name": "stdout",
     "output_type": "stream",
     "text": [
      "\u001b[1m7/7\u001b[0m \u001b[32m━━━━━━━━━━━━━━━━━━━━\u001b[0m\u001b[37m\u001b[0m \u001b[1m3s\u001b[0m 313ms/step\n"
     ]
    }
   ],
   "source": [
    "y_pred = model.predict(X_test)"
   ]
  },
  {
   "cell_type": "markdown",
   "id": "5be37c95",
   "metadata": {},
   "source": [
    "### Fetch the index of the higher probable prediction"
   ]
  },
  {
   "cell_type": "code",
   "execution_count": 26,
   "id": "9796e71b",
   "metadata": {},
   "outputs": [],
   "source": [
    "y_pred = [np.argmax(i) for i in y_pred]"
   ]
  },
  {
   "cell_type": "markdown",
   "id": "330f1e88",
   "metadata": {},
   "source": [
    "### Evaluate the model"
   ]
  },
  {
   "cell_type": "markdown",
   "id": "a018f2c7",
   "metadata": {},
   "source": [
    "### Accuracy score"
   ]
  },
  {
   "cell_type": "code",
   "execution_count": 27,
   "id": "014fbaf7",
   "metadata": {},
   "outputs": [
    {
     "data": {
      "text/plain": [
       "0.805"
      ]
     },
     "execution_count": 27,
     "metadata": {},
     "output_type": "execute_result"
    }
   ],
   "source": [
    "accuracy_score(y_test,y_pred)"
   ]
  },
  {
   "cell_type": "markdown",
   "id": "71207bfa",
   "metadata": {},
   "source": [
    "### Confusion matrix"
   ]
  },
  {
   "cell_type": "code",
   "execution_count": 28,
   "id": "a6ac7901",
   "metadata": {},
   "outputs": [
    {
     "data": {
      "text/plain": [
       "<Axes: >"
      ]
     },
     "execution_count": 28,
     "metadata": {},
     "output_type": "execute_result"
    },
    {
     "data": {
      "image/png": "[encoded data removed]",
      "text/plain": [
       "<Figure size 640x480 with 2 Axes>"
      ]
     },
     "metadata": {},
     "output_type": "display_data"
    }
   ],
   "source": [
    "sns.heatmap(confusion_matrix(y_test,y_pred), annot = True, fmt = 'd')"
   ]
  },
  {
   "cell_type": "markdown",
   "id": "e0d72289",
   "metadata": {},
   "source": [
    "### Classification Report"
   ]
  },
  {
   "cell_type": "code",
   "execution_count": 29,
   "id": "9dacd583",
   "metadata": {},
   "outputs": [
    {
     "name": "stdout",
     "output_type": "stream",
     "text": [
      "              precision    recall  f1-score   support\n",
      "\n",
      "           0       0.85      0.74      0.79        74\n",
      "           1       0.80      0.87      0.83        45\n",
      "           2       0.80      0.82      0.81        44\n",
      "           3       0.76      0.84      0.79        37\n",
      "\n",
      "    accuracy                           0.81       200\n",
      "   macro avg       0.80      0.82      0.81       200\n",
      "weighted avg       0.81      0.81      0.80       200\n",
      "\n"
     ]
    }
   ],
   "source": [
    "print(classification_report(y_test,y_pred))"
   ]
  },
  {
   "cell_type": "markdown",
   "id": "a0554b93",
   "metadata": {},
   "source": [
    "***"
   ]
  }
 ],
 "metadata": {
  "kernelspec": {
   "display_name": "Python 3 (ipykernel)",
   "language": "python",
   "name": "python3"
  },
  "language_info": {
   "codemirror_mode": {
    "name": "ipython",
    "version": 3
   },
   "file_extension": ".py",
   "mimetype": "text/x-python",
   "name": "python",
   "nbconvert_exporter": "python",
   "pygments_lexer": "ipython3",
   "version": "3.11.7"
  }
 },
 "nbformat": 4,
 "nbformat_minor": 5
}
